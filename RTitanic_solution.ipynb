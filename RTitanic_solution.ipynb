{
 "cells": [
  {
   "cell_type": "markdown",
   "id": "stable-alias",
   "metadata": {},
   "source": [
    "## Import libraries"
   ]
  },
  {
   "cell_type": "code",
   "execution_count": null,
   "id": "interracial-better",
   "metadata": {},
   "outputs": [],
   "source": [
    "library(randomForest)\n",
    "library(dplyr)\n",
    "library(caret)\n",
    "library(e1071)"
   ]
  },
  {
   "cell_type": "markdown",
   "id": "august-renewal",
   "metadata": {},
   "source": [
    "## Load CSV files"
   ]
  },
  {
   "cell_type": "code",
   "execution_count": null,
   "id": "settled-appearance",
   "metadata": {},
   "outputs": [],
   "source": [
    "train <- read.csv(\"train.csv\")\n",
    "test <- read.csv(\"test.csv\")\n",
    "train <-train[-c(1)]\n",
    "test <-test[-c(1)]"
   ]
  },
  {
   "cell_type": "code",
   "execution_count": null,
   "id": "virgin-finish",
   "metadata": {},
   "outputs": [],
   "source": [
    "head(train)"
   ]
  },
  {
   "cell_type": "markdown",
   "id": "strategic-model",
   "metadata": {},
   "source": [
    "## Train Model"
   ]
  },
  {
   "cell_type": "code",
   "execution_count": null,
   "id": "closed-cuisine",
   "metadata": {},
   "outputs": [],
   "source": [
    "model <- randomForest(factor(Survived)~., \n",
    "           data = train)"
   ]
  },
  {
   "cell_type": "code",
   "execution_count": null,
   "id": "racial-partition",
   "metadata": {},
   "outputs": [],
   "source": [
    "model"
   ]
  },
  {
   "cell_type": "markdown",
   "id": "informal-prototype",
   "metadata": {},
   "source": [
    "## Plot model"
   ]
  },
  {
   "cell_type": "code",
   "execution_count": null,
   "id": "strong-aerospace",
   "metadata": {},
   "outputs": [],
   "source": [
    "plot(model)"
   ]
  },
  {
   "cell_type": "markdown",
   "id": "nervous-startup",
   "metadata": {},
   "source": [
    "## Variable Importance"
   ]
  },
  {
   "cell_type": "code",
   "execution_count": null,
   "id": "olive-needle",
   "metadata": {},
   "outputs": [],
   "source": [
    "varImpPlot(model, n.var=10) "
   ]
  },
  {
   "cell_type": "markdown",
   "id": "level-shore",
   "metadata": {},
   "source": [
    "## Predict on test"
   ]
  },
  {
   "cell_type": "code",
   "execution_count": null,
   "id": "national-establishment",
   "metadata": {},
   "outputs": [],
   "source": [
    "prediction <-predict(model, test)\n",
    "head(prediction)"
   ]
  },
  {
   "cell_type": "markdown",
   "id": "clean-piano",
   "metadata": {},
   "source": [
    "## Confusion Matrix"
   ]
  },
  {
   "cell_type": "code",
   "execution_count": null,
   "id": "republican-theme",
   "metadata": {},
   "outputs": [],
   "source": [
    "confusionMatrix(factor(test$Survived), prediction)"
   ]
  },
  {
   "cell_type": "markdown",
   "id": "durable-lodge",
   "metadata": {},
   "source": [
    "## F1 Score"
   ]
  },
  {
   "cell_type": "code",
   "execution_count": null,
   "id": "assured-domain",
   "metadata": {},
   "outputs": [],
   "source": [
    "library(MLmetrics)"
   ]
  },
  {
   "cell_type": "code",
   "execution_count": null,
   "id": "simple-intensity",
   "metadata": {},
   "outputs": [],
   "source": [
    "F1_Score(factor(test$Survived), prediction, positive=1)"
   ]
  }
 ],
 "metadata": {
  "kernelspec": {
   "display_name": "R",
   "language": "R",
   "name": "ir"
  },
  "language_info": {
   "codemirror_mode": "r",
   "file_extension": ".r",
   "mimetype": "text/x-r-source",
   "name": "R",
   "pygments_lexer": "r",
   "version": "3.6.1"
  }
 },
 "nbformat": 4,
 "nbformat_minor": 5
}
