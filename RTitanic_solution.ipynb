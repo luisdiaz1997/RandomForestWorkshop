{
 "cells": [
  {
   "cell_type": "markdown",
   "id": "controlling-foundation",
   "metadata": {},
   "source": [
    "## Import libraries"
   ]
  },
  {
   "cell_type": "code",
   "execution_count": 1,
   "id": "equal-piano",
   "metadata": {},
   "outputs": [
    {
     "name": "stderr",
     "output_type": "stream",
     "text": [
      "randomForest 4.6-14\n",
      "Type rfNews() to see new features/changes/bug fixes.\n",
      "\n",
      "Attaching package: ‘dplyr’\n",
      "\n",
      "The following object is masked from ‘package:randomForest’:\n",
      "\n",
      "    combine\n",
      "\n",
      "The following objects are masked from ‘package:stats’:\n",
      "\n",
      "    filter, lag\n",
      "\n",
      "The following objects are masked from ‘package:base’:\n",
      "\n",
      "    intersect, setdiff, setequal, union\n",
      "\n",
      "Loading required package: lattice\n",
      "Loading required package: ggplot2\n",
      "Registered S3 methods overwritten by 'ggplot2':\n",
      "  method         from \n",
      "  [.quosures     rlang\n",
      "  c.quosures     rlang\n",
      "  print.quosures rlang\n",
      "\n",
      "Attaching package: ‘ggplot2’\n",
      "\n",
      "The following object is masked from ‘package:randomForest’:\n",
      "\n",
      "    margin\n",
      "\n"
     ]
    }
   ],
   "source": [
    "library(randomForest)\n",
    "library(dplyr)\n",
    "library(caret)\n",
    "library(e1071)"
   ]
  },
  {
   "cell_type": "markdown",
   "id": "exciting-offering",
   "metadata": {},
   "source": [
    "## Load CSV files"
   ]
  },
  {
   "cell_type": "code",
   "execution_count": 2,
   "id": "interior-netscape",
   "metadata": {},
   "outputs": [],
   "source": [
    "train <- read.csv(\"train.csv\")\n",
    "test <- read.csv(\"test.csv\")\n",
    "train <-train[-c(1)]\n",
    "test <-test[-c(1)]"
   ]
  },
  {
   "cell_type": "code",
   "execution_count": 3,
   "id": "literary-retailer",
   "metadata": {},
   "outputs": [
    {
     "data": {
      "text/html": [
       "<table>\n",
       "<thead><tr><th scope=col>Survived</th><th scope=col>Pclass</th><th scope=col>Age</th><th scope=col>SibSp</th><th scope=col>Parch</th><th scope=col>Fare</th><th scope=col>Cabin_number</th><th scope=col>Cabin_A</th><th scope=col>Cabin_B</th><th scope=col>Cabin_C</th><th scope=col>Cabin_D</th><th scope=col>Cabin_E</th><th scope=col>Cabin_F</th><th scope=col>Cabin_G</th><th scope=col>Cabin_T</th><th scope=col>Cabin_Z</th><th scope=col>Embarked_C</th><th scope=col>Embarked_Q</th><th scope=col>Embarked_S</th></tr></thead>\n",
       "<tbody>\n",
       "\t<tr><td>1      </td><td>2      </td><td>13     </td><td>0      </td><td>1      </td><td>19.5000</td><td> 0     </td><td>0      </td><td>0      </td><td>0      </td><td>0      </td><td>0      </td><td>0      </td><td>0      </td><td>0      </td><td>1      </td><td>0      </td><td>0      </td><td>1      </td></tr>\n",
       "\t<tr><td>1      </td><td>1      </td><td>25     </td><td>1      </td><td>0      </td><td>55.4417</td><td>50     </td><td>0      </td><td>0      </td><td>0      </td><td>0      </td><td>1      </td><td>0      </td><td>0      </td><td>0      </td><td>0      </td><td>1      </td><td>0      </td><td>0      </td></tr>\n",
       "\t<tr><td>0      </td><td>1      </td><td>45     </td><td>1      </td><td>0      </td><td>83.4750</td><td>83     </td><td>0      </td><td>0      </td><td>1      </td><td>0      </td><td>0      </td><td>0      </td><td>0      </td><td>0      </td><td>0      </td><td>0      </td><td>0      </td><td>1      </td></tr>\n",
       "\t<tr><td>0      </td><td>3      </td><td>21     </td><td>0      </td><td>0      </td><td> 7.7333</td><td> 0     </td><td>0      </td><td>0      </td><td>0      </td><td>0      </td><td>0      </td><td>0      </td><td>0      </td><td>0      </td><td>1      </td><td>0      </td><td>1      </td><td>0      </td></tr>\n",
       "\t<tr><td>1      </td><td>2      </td><td>22     </td><td>1      </td><td>2      </td><td>41.5792</td><td> 0     </td><td>0      </td><td>0      </td><td>0      </td><td>0      </td><td>0      </td><td>0      </td><td>0      </td><td>0      </td><td>1      </td><td>1      </td><td>0      </td><td>0      </td></tr>\n",
       "\t<tr><td>0      </td><td>3      </td><td>51     </td><td>0      </td><td>0      </td><td> 7.7500</td><td> 0     </td><td>0      </td><td>0      </td><td>0      </td><td>0      </td><td>0      </td><td>0      </td><td>0      </td><td>0      </td><td>1      </td><td>0      </td><td>0      </td><td>1      </td></tr>\n",
       "</tbody>\n",
       "</table>\n"
      ],
      "text/latex": [
       "\\begin{tabular}{r|lllllllllllllllllll}\n",
       " Survived & Pclass & Age & SibSp & Parch & Fare & Cabin\\_number & Cabin\\_A & Cabin\\_B & Cabin\\_C & Cabin\\_D & Cabin\\_E & Cabin\\_F & Cabin\\_G & Cabin\\_T & Cabin\\_Z & Embarked\\_C & Embarked\\_Q & Embarked\\_S\\\\\n",
       "\\hline\n",
       "\t 1       & 2       & 13      & 0       & 1       & 19.5000 &  0      & 0       & 0       & 0       & 0       & 0       & 0       & 0       & 0       & 1       & 0       & 0       & 1      \\\\\n",
       "\t 1       & 1       & 25      & 1       & 0       & 55.4417 & 50      & 0       & 0       & 0       & 0       & 1       & 0       & 0       & 0       & 0       & 1       & 0       & 0      \\\\\n",
       "\t 0       & 1       & 45      & 1       & 0       & 83.4750 & 83      & 0       & 0       & 1       & 0       & 0       & 0       & 0       & 0       & 0       & 0       & 0       & 1      \\\\\n",
       "\t 0       & 3       & 21      & 0       & 0       &  7.7333 &  0      & 0       & 0       & 0       & 0       & 0       & 0       & 0       & 0       & 1       & 0       & 1       & 0      \\\\\n",
       "\t 1       & 2       & 22      & 1       & 2       & 41.5792 &  0      & 0       & 0       & 0       & 0       & 0       & 0       & 0       & 0       & 1       & 1       & 0       & 0      \\\\\n",
       "\t 0       & 3       & 51      & 0       & 0       &  7.7500 &  0      & 0       & 0       & 0       & 0       & 0       & 0       & 0       & 0       & 1       & 0       & 0       & 1      \\\\\n",
       "\\end{tabular}\n"
      ],
      "text/markdown": [
       "\n",
       "| Survived | Pclass | Age | SibSp | Parch | Fare | Cabin_number | Cabin_A | Cabin_B | Cabin_C | Cabin_D | Cabin_E | Cabin_F | Cabin_G | Cabin_T | Cabin_Z | Embarked_C | Embarked_Q | Embarked_S |\n",
       "|---|---|---|---|---|---|---|---|---|---|---|---|---|---|---|---|---|---|---|\n",
       "| 1       | 2       | 13      | 0       | 1       | 19.5000 |  0      | 0       | 0       | 0       | 0       | 0       | 0       | 0       | 0       | 1       | 0       | 0       | 1       |\n",
       "| 1       | 1       | 25      | 1       | 0       | 55.4417 | 50      | 0       | 0       | 0       | 0       | 1       | 0       | 0       | 0       | 0       | 1       | 0       | 0       |\n",
       "| 0       | 1       | 45      | 1       | 0       | 83.4750 | 83      | 0       | 0       | 1       | 0       | 0       | 0       | 0       | 0       | 0       | 0       | 0       | 1       |\n",
       "| 0       | 3       | 21      | 0       | 0       |  7.7333 |  0      | 0       | 0       | 0       | 0       | 0       | 0       | 0       | 0       | 1       | 0       | 1       | 0       |\n",
       "| 1       | 2       | 22      | 1       | 2       | 41.5792 |  0      | 0       | 0       | 0       | 0       | 0       | 0       | 0       | 0       | 1       | 1       | 0       | 0       |\n",
       "| 0       | 3       | 51      | 0       | 0       |  7.7500 |  0      | 0       | 0       | 0       | 0       | 0       | 0       | 0       | 0       | 1       | 0       | 0       | 1       |\n",
       "\n"
      ],
      "text/plain": [
       "  Survived Pclass Age SibSp Parch Fare    Cabin_number Cabin_A Cabin_B Cabin_C\n",
       "1 1        2      13  0     1     19.5000  0           0       0       0      \n",
       "2 1        1      25  1     0     55.4417 50           0       0       0      \n",
       "3 0        1      45  1     0     83.4750 83           0       0       1      \n",
       "4 0        3      21  0     0      7.7333  0           0       0       0      \n",
       "5 1        2      22  1     2     41.5792  0           0       0       0      \n",
       "6 0        3      51  0     0      7.7500  0           0       0       0      \n",
       "  Cabin_D Cabin_E Cabin_F Cabin_G Cabin_T Cabin_Z Embarked_C Embarked_Q\n",
       "1 0       0       0       0       0       1       0          0         \n",
       "2 0       1       0       0       0       0       1          0         \n",
       "3 0       0       0       0       0       0       0          0         \n",
       "4 0       0       0       0       0       1       0          1         \n",
       "5 0       0       0       0       0       1       1          0         \n",
       "6 0       0       0       0       0       1       0          0         \n",
       "  Embarked_S\n",
       "1 1         \n",
       "2 0         \n",
       "3 1         \n",
       "4 0         \n",
       "5 0         \n",
       "6 1         "
      ]
     },
     "metadata": {},
     "output_type": "display_data"
    }
   ],
   "source": [
    "head(train)"
   ]
  },
  {
   "cell_type": "markdown",
   "id": "objective-fraud",
   "metadata": {},
   "source": [
    "## Train Model"
   ]
  },
  {
   "cell_type": "code",
   "execution_count": 4,
   "id": "stable-harvey",
   "metadata": {},
   "outputs": [],
   "source": [
    "model <- randomForest(factor(Survived)~., \n",
    "           data = train)"
   ]
  },
  {
   "cell_type": "code",
   "execution_count": 5,
   "id": "universal-banking",
   "metadata": {},
   "outputs": [
    {
     "data": {
      "text/plain": [
       "\n",
       "Call:\n",
       " randomForest(formula = factor(Survived) ~ ., data = train) \n",
       "               Type of random forest: classification\n",
       "                     Number of trees: 500\n",
       "No. of variables tried at each split: 4\n",
       "\n",
       "        OOB estimate of  error rate: 28.12%\n",
       "Confusion matrix:\n",
       "    0   1 class.error\n",
       "0 289  47   0.1398810\n",
       "1 113 120   0.4849785"
      ]
     },
     "metadata": {},
     "output_type": "display_data"
    }
   ],
   "source": [
    "model"
   ]
  },
  {
   "cell_type": "markdown",
   "id": "afraid-compatibility",
   "metadata": {},
   "source": [
    "## Plot model"
   ]
  },
  {
   "cell_type": "code",
   "execution_count": 6,
   "id": "liable-possession",
   "metadata": {},
   "outputs": [
    {
     "data": {
      "image/png": "[encoded data removed]",
      "text/plain": [
       "Plot with title “model”"
      ]
     },
     "metadata": {},
     "output_type": "display_data"
    }
   ],
   "source": [
    "plot(model)"
   ]
  },
  {
   "cell_type": "markdown",
   "id": "therapeutic-round",
   "metadata": {},
   "source": [
    "## Variable Importance"
   ]
  },
  {
   "cell_type": "code",
   "execution_count": 7,
   "id": "alert-netherlands",
   "metadata": {},
   "outputs": [
    {
     "data": {
      "image/png": "[encoded data removed]",
      "text/plain": [
       "Plot with title “model”"
      ]
     },
     "metadata": {},
     "output_type": "display_data"
    }
   ],
   "source": [
    "varImpPlot(model, n.var=10) "
   ]
  },
  {
   "cell_type": "markdown",
   "id": "consolidated-siemens",
   "metadata": {},
   "source": [
    "## Predict on test"
   ]
  },
  {
   "cell_type": "code",
   "execution_count": 8,
   "id": "private-horse",
   "metadata": {},
   "outputs": [
    {
     "data": {
      "text/html": [
       "<dl class=dl-horizontal>\n",
       "\t<dt>1</dt>\n",
       "\t\t<dd>0</dd>\n",
       "\t<dt>2</dt>\n",
       "\t\t<dd>0</dd>\n",
       "\t<dt>3</dt>\n",
       "\t\t<dd>0</dd>\n",
       "\t<dt>4</dt>\n",
       "\t\t<dd>0</dd>\n",
       "\t<dt>5</dt>\n",
       "\t\t<dd>0</dd>\n",
       "\t<dt>6</dt>\n",
       "\t\t<dd>1</dd>\n",
       "</dl>\n",
       "\n",
       "<details>\n",
       "\t<summary style=display:list-item;cursor:pointer>\n",
       "\t\t<strong>Levels</strong>:\n",
       "\t</summary>\n",
       "\t<ol class=list-inline>\n",
       "\t\t<li>'0'</li>\n",
       "\t\t<li>'1'</li>\n",
       "\t</ol>\n",
       "</details>"
      ],
      "text/latex": [
       "\\begin{description*}\n",
       "\\item[1] 0\n",
       "\\item[2] 0\n",
       "\\item[3] 0\n",
       "\\item[4] 0\n",
       "\\item[5] 0\n",
       "\\item[6] 1\n",
       "\\end{description*}\n",
       "\n",
       "\\emph{Levels}: \\begin{enumerate*}\n",
       "\\item '0'\n",
       "\\item '1'\n",
       "\\end{enumerate*}\n"
      ],
      "text/markdown": [
       "1\n",
       ":   02\n",
       ":   03\n",
       ":   04\n",
       ":   05\n",
       ":   06\n",
       ":   1\n",
       "\n",
       "\n",
       "**Levels**: 1. '0'\n",
       "2. '1'\n",
       "\n",
       "\n"
      ],
      "text/plain": [
       "1 2 3 4 5 6 \n",
       "0 0 0 0 0 1 \n",
       "Levels: 0 1"
      ]
     },
     "metadata": {},
     "output_type": "display_data"
    }
   ],
   "source": [
    "prediction <-predict(model, test)\n",
    "head(prediction)"
   ]
  },
  {
   "cell_type": "markdown",
   "id": "acoustic-actor",
   "metadata": {},
   "source": [
    "## Confusion Matrix"
   ]
  },
  {
   "cell_type": "code",
   "execution_count": 9,
   "id": "commercial-skating",
   "metadata": {},
   "outputs": [
    {
     "data": {
      "text/plain": [
       "Confusion Matrix and Statistics\n",
       "\n",
       "          Reference\n",
       "Prediction  0  1\n",
       "         0 70 18\n",
       "         1 23 32\n",
       "                                          \n",
       "               Accuracy : 0.7133          \n",
       "                 95% CI : (0.6318, 0.7858)\n",
       "    No Information Rate : 0.6503          \n",
       "    P-Value [Acc > NIR] : 0.06641         \n",
       "                                          \n",
       "                  Kappa : 0.3838          \n",
       "                                          \n",
       " Mcnemar's Test P-Value : 0.53217         \n",
       "                                          \n",
       "            Sensitivity : 0.7527          \n",
       "            Specificity : 0.6400          \n",
       "         Pos Pred Value : 0.7955          \n",
       "         Neg Pred Value : 0.5818          \n",
       "             Prevalence : 0.6503          \n",
       "         Detection Rate : 0.4895          \n",
       "   Detection Prevalence : 0.6154          \n",
       "      Balanced Accuracy : 0.6963          \n",
       "                                          \n",
       "       'Positive' Class : 0               \n",
       "                                          "
      ]
     },
     "metadata": {},
     "output_type": "display_data"
    }
   ],
   "source": [
    "confusionMatrix(factor(test$Survived), prediction)"
   ]
  },
  {
   "cell_type": "markdown",
   "id": "august-lesson",
   "metadata": {},
   "source": [
    "## F1 Score"
   ]
  },
  {
   "cell_type": "code",
   "execution_count": 10,
   "id": "explicit-mention",
   "metadata": {},
   "outputs": [
    {
     "name": "stderr",
     "output_type": "stream",
     "text": [
      "Warning message:\n",
      "“package ‘MLmetrics’ was built under R version 3.6.3”\n",
      "Attaching package: ‘MLmetrics’\n",
      "\n",
      "The following objects are masked from ‘package:caret’:\n",
      "\n",
      "    MAE, RMSE\n",
      "\n",
      "The following object is masked from ‘package:base’:\n",
      "\n",
      "    Recall\n",
      "\n"
     ]
    }
   ],
   "source": [
    "library(MLmetrics)"
   ]
  },
  {
   "cell_type": "code",
   "execution_count": 14,
   "id": "through-validity",
   "metadata": {},
   "outputs": [
    {
     "data": {
      "text/html": [
       "0.60952380952381"
      ],
      "text/latex": [
       "0.60952380952381"
      ],
      "text/markdown": [
       "0.60952380952381"
      ],
      "text/plain": [
       "[1] 0.6095238"
      ]
     },
     "metadata": {},
     "output_type": "display_data"
    }
   ],
   "source": [
    "F1_Score(factor(test$Survived), prediction, positive=1)"
   ]
  }
 ],
 "metadata": {
  "kernelspec": {
   "display_name": "R",
   "language": "R",
   "name": "ir"
  },
  "language_info": {
   "codemirror_mode": "r",
   "file_extension": ".r",
   "mimetype": "text/x-r-source",
   "name": "R",
   "pygments_lexer": "r",
   "version": "3.6.1"
  }
 },
 "nbformat": 4,
 "nbformat_minor": 5
}
