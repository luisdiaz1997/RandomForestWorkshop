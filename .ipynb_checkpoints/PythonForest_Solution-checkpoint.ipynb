{
 "cells": [
  {
   "cell_type": "code",
   "execution_count": null,
   "id": "married-candidate",
   "metadata": {},
   "outputs": [],
   "source": [
    "from sklearn.ensemble import RandomForestClassifier\n",
    "import pandas as pd\n",
    "import numpy as np"
   ]
  },
  {
   "cell_type": "markdown",
   "id": "expanded-underground",
   "metadata": {},
   "source": [
    "### Create empty data frame"
   ]
  },
  {
   "cell_type": "code",
   "execution_count": null,
   "id": "driving-mandate",
   "metadata": {},
   "outputs": [],
   "source": [
    "golf_df = pd.DataFrame() #this is a variable golf dataframe, to create an empty dataframe ()"
   ]
  },
  {
   "cell_type": "code",
   "execution_count": null,
   "id": "surprised-spencer",
   "metadata": {},
   "outputs": [],
   "source": [
    "# add outlook\n",
    "golf_df['Outlook'] = ['sunny', 'sunny', 'overcast', 'rainy', 'rainy', 'rainy', \n",
    "                     'overcast', 'sunny', 'sunny', 'rainy', 'sunny', 'overcast',\n",
    "                     'overcast', 'rainy']\n",
    "\n",
    "#add temperature\n",
    "golf_df['Temperature'] = [92, 86, 83, 70, 60, 53, 62,\n",
    "                         75, 57, 72, 78, 69, 81, 71]\n",
    "\n",
    "#add humidity\n",
    "golf_df['Humidity'] = [40.3, 63.1, 35.3, 86.3, 72.4, 22.7, 27.0,\n",
    "                      80.7, 15.4, 25.1, 18.6, 58.3, 27.2, 39.3]\n",
    "\n",
    "#add windy\n",
    "golf_df['Windy'] = ['false', 'true', 'false', 'false', 'false', 'true', 'true',\n",
    "                   'false', 'false', 'false', 'true', 'true', 'false', 'true']\n",
    "\n",
    "#finally add play\n",
    "golf_df['Play'] = ['no', 'no', 'yes', 'yes', 'yes', 'no', 'yes', 'no', 'yes', 'yes', 'yes', \n",
    "                  'yes', 'yes', 'no']"
   ]
  },
  {
   "cell_type": "code",
   "execution_count": null,
   "id": "manufactured-merchant",
   "metadata": {},
   "outputs": [],
   "source": [
    "golf_df"
   ]
  },
  {
   "cell_type": "markdown",
   "id": "following-olive",
   "metadata": {},
   "source": [
    "## Process data"
   ]
  },
  {
   "cell_type": "code",
   "execution_count": null,
   "id": "different-saturday",
   "metadata": {},
   "outputs": [],
   "source": [
    "one_hot_data = pd.get_dummies(golf_df[['Outlook', 'Windy']])"
   ]
  },
  {
   "cell_type": "code",
   "execution_count": null,
   "id": "narrative-broadway",
   "metadata": {},
   "outputs": [],
   "source": [
    "one_hot_data"
   ]
  },
  {
   "cell_type": "markdown",
   "id": "stainless-parliament",
   "metadata": {},
   "source": [
    "## All of it together"
   ]
  },
  {
   "cell_type": "code",
   "execution_count": null,
   "id": "caroline-texture",
   "metadata": {},
   "outputs": [],
   "source": [
    "golf_one_hot = golf_df[['Temperature', 'Humidity']].join(one_hot_data)"
   ]
  },
  {
   "cell_type": "code",
   "execution_count": null,
   "id": "broke-relief",
   "metadata": {},
   "outputs": [],
   "source": [
    "golf_one_hot"
   ]
  },
  {
   "cell_type": "markdown",
   "id": "stunning-upset",
   "metadata": {},
   "source": [
    "## Create Model"
   ]
  },
  {
   "cell_type": "code",
   "execution_count": null,
   "id": "knowing-discharge",
   "metadata": {},
   "outputs": [],
   "source": [
    "model = RandomForestClassifier(n_estimators=10,  random_state=7)"
   ]
  },
  {
   "cell_type": "code",
   "execution_count": null,
   "id": "necessary-breakfast",
   "metadata": {},
   "outputs": [],
   "source": [
    "model.fit(golf_one_hot, golf_df['Play'])"
   ]
  },
  {
   "cell_type": "code",
   "execution_count": null,
   "id": "fresh-wagon",
   "metadata": {},
   "outputs": [],
   "source": [
    "model.predict([[100, 18, 1, 0, 0, 1, 0]])"
   ]
  },
  {
   "cell_type": "code",
   "execution_count": null,
   "id": "musical-assault",
   "metadata": {},
   "outputs": [],
   "source": [
    "model.predict(golf_one_hot)"
   ]
  },
  {
   "cell_type": "code",
   "execution_count": null,
   "id": "young-delivery",
   "metadata": {},
   "outputs": [],
   "source": [
    "golf_df['Play'].values"
   ]
  },
  {
   "cell_type": "markdown",
   "id": "cheap-northeast",
   "metadata": {},
   "source": [
    "## Most important features"
   ]
  },
  {
   "cell_type": "code",
   "execution_count": null,
   "id": "residential-kidney",
   "metadata": {},
   "outputs": [],
   "source": [
    "from sklearn.inspection import permutation_importance"
   ]
  },
  {
   "cell_type": "code",
   "execution_count": null,
   "id": "geographic-filter",
   "metadata": {},
   "outputs": [],
   "source": [
    "result = permutation_importance(model, golf_one_hot, golf_df['Play'], n_repeats=10,\n",
    "                                random_state=7)\n",
    "result"
   ]
  },
  {
   "cell_type": "code",
   "execution_count": null,
   "id": "suitable-slope",
   "metadata": {},
   "outputs": [],
   "source": [
    "perm_sorted_idx = result.importances_mean.argsort()"
   ]
  },
  {
   "cell_type": "code",
   "execution_count": null,
   "id": "basic-exhibit",
   "metadata": {},
   "outputs": [],
   "source": [
    "tree_importance_sorted_idx = np.argsort(model.feature_importances_)"
   ]
  },
  {
   "cell_type": "code",
   "execution_count": null,
   "id": "vietnamese-humidity",
   "metadata": {},
   "outputs": [],
   "source": [
    "model.feature_importances_"
   ]
  },
  {
   "cell_type": "code",
   "execution_count": null,
   "id": "drawn-surge",
   "metadata": {},
   "outputs": [],
   "source": [
    "import matplotlib.pyplot as plt\n",
    "plt.boxplot(result.importances[perm_sorted_idx].T, vert=False, labels=golf_one_hot.columns[perm_sorted_idx]);"
   ]
  },
  {
   "cell_type": "markdown",
   "id": "informed-maker",
   "metadata": {},
   "source": [
    "## Visualize tree"
   ]
  },
  {
   "cell_type": "code",
   "execution_count": null,
   "id": "annual-expression",
   "metadata": {},
   "outputs": [],
   "source": [
    "from sklearn import tree\n"
   ]
  },
  {
   "cell_type": "code",
   "execution_count": null,
   "id": "composite-amplifier",
   "metadata": {},
   "outputs": [],
   "source": [
    "plt.figure(figsize=(10, 10))\n",
    "tree.plot_tree(model.estimators_[0],\n",
    "               feature_names = golf_one_hot.columns, \n",
    "               class_names=['no', 'yes'],\n",
    "               filled = True);\n",
    "#Yes left, #No Right"
   ]
  }
 ],
 "metadata": {
  "kernelspec": {
   "display_name": "Python 3",
   "language": "python",
   "name": "python3"
  },
  "language_info": {
   "codemirror_mode": {
    "name": "ipython",
    "version": 3
   },
   "file_extension": ".py",
   "mimetype": "text/x-python",
   "name": "python",
   "nbconvert_exporter": "python",
   "pygments_lexer": "ipython3",
   "version": "3.8.8"
  }
 },
 "nbformat": 4,
 "nbformat_minor": 5
}
