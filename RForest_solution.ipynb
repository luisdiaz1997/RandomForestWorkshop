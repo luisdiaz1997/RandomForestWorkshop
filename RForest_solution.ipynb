{
 "cells": [
  {
   "cell_type": "markdown",
   "id": "orange-freedom",
   "metadata": {},
   "source": [
    "## Import libraries"
   ]
  },
  {
   "cell_type": "code",
   "execution_count": null,
   "id": "placed-baghdad",
   "metadata": {},
   "outputs": [],
   "source": [
    "library(randomForest)\n",
    "library(party)"
   ]
  },
  {
   "cell_type": "code",
   "execution_count": null,
   "id": "competitive-military",
   "metadata": {},
   "outputs": [],
   "source": [
    "head(readingSkills)"
   ]
  },
  {
   "cell_type": "markdown",
   "id": "intended-mainland",
   "metadata": {},
   "source": [
    "## Train Model"
   ]
  },
  {
   "cell_type": "code",
   "execution_count": null,
   "id": "alternate-reward",
   "metadata": {},
   "outputs": [],
   "source": [
    "model <- randomForest(nativeSpeaker ~ age + shoeSize + score, \n",
    "           data = readingSkills)"
   ]
  },
  {
   "cell_type": "code",
   "execution_count": null,
   "id": "normal-notebook",
   "metadata": {},
   "outputs": [],
   "source": [
    "model"
   ]
  },
  {
   "cell_type": "markdown",
   "id": "silver-concern",
   "metadata": {},
   "source": [
    "## Plot model"
   ]
  },
  {
   "cell_type": "code",
   "execution_count": null,
   "id": "novel-essence",
   "metadata": {},
   "outputs": [],
   "source": [
    "plot(model)"
   ]
  },
  {
   "cell_type": "markdown",
   "id": "caroline-documentary",
   "metadata": {},
   "source": [
    "## Variable Importance"
   ]
  },
  {
   "cell_type": "code",
   "execution_count": null,
   "id": "rapid-context",
   "metadata": {},
   "outputs": [],
   "source": [
    "varImpPlot(model, n.var=10) "
   ]
  },
  {
   "cell_type": "code",
   "execution_count": null,
   "id": "foreign-portsmouth",
   "metadata": {},
   "outputs": [],
   "source": []
  },
  {
   "cell_type": "code",
   "execution_count": null,
   "id": "satisfactory-prescription",
   "metadata": {},
   "outputs": [],
   "source": []
  },
  {
   "cell_type": "code",
   "execution_count": null,
   "id": "normal-consistency",
   "metadata": {},
   "outputs": [],
   "source": []
  }
 ],
 "metadata": {
  "kernelspec": {
   "display_name": "R",
   "language": "R",
   "name": "ir"
  },
  "language_info": {
   "codemirror_mode": "r",
   "file_extension": ".r",
   "mimetype": "text/x-r-source",
   "name": "R",
   "pygments_lexer": "r",
   "version": "3.6.1"
  }
 },
 "nbformat": 4,
 "nbformat_minor": 5
}
